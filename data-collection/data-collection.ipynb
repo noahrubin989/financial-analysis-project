{
 "cells": [
  {
   "cell_type": "markdown",
   "metadata": {},
   "source": [
    "# Notes\n",
    "This is a space to trial and error things in a non-refactorted way"
   ]
  },
  {
   "cell_type": "code",
   "execution_count": null,
   "metadata": {},
   "outputs": [],
   "source": [
    "import pandas as pd\n",
    "import numpy as np\n",
    "import yfinance as yf"
   ]
  },
  {
   "cell_type": "code",
   "execution_count": null,
   "metadata": {},
   "outputs": [],
   "source": [
    "# import yfinance as yf\n",
    "\n",
    "# msft = yf.Ticker(\"MSFT\")\n",
    "\n",
    "# # get all stock info\n",
    "# msft.info\n",
    "\n",
    "# # get historical market data\n",
    "# hist = msft.history(period=\"1mo\")\n",
    "\n",
    "# # show meta information about the history (requires history() to be called first)\n",
    "# msft.history_metadata\n",
    "\n",
    "# # show actions (dividends, splits, capital gains)\n",
    "# msft.actions\n",
    "# msft.dividends\n",
    "# msft.splits\n",
    "# msft.capital_gains  # only for mutual funds & etfs\n",
    "\n",
    "# # show share count\n",
    "# msft.get_shares_full(start=\"2022-01-01\", end=None)\n",
    "\n",
    "# # show financials:\n",
    "# # - income statement\n",
    "# msft.income_stmt\n",
    "# msft.quarterly_income_stmt\n",
    "# # - balance sheet\n",
    "# msft.balance_sheet\n",
    "# msft.quarterly_balance_sheet\n",
    "# # - cash flow statement\n",
    "# msft.cashflow\n",
    "# msft.quarterly_cashflow\n",
    "# # see `Ticker.get_income_stmt()` for more options\n",
    "\n",
    "# # show holders\n",
    "# msft.major_holders\n",
    "# msft.institutional_holders\n",
    "# msft.mutualfund_holders\n",
    "# msft.insider_transactions\n",
    "# msft.insider_purchases\n",
    "# msft.insider_roster_holders\n",
    "\n",
    "# # show recommendations\n",
    "# msft.recommendations\n",
    "# msft.recommendations_summary\n",
    "# msft.upgrades_downgrades\n",
    "\n",
    "# # Show future and historic earnings dates, returns at most next 4 quarters and last 8 quarters by default. \n",
    "# # Note: If more are needed use msft.get_earnings_dates(limit=XX) with increased limit argument.\n",
    "# msft.earnings_dates\n",
    "\n",
    "# # show ISIN code - *experimental*\n",
    "# # ISIN = International Securities Identification Number\n",
    "# msft.isin\n",
    "\n",
    "# # show options expirations\n",
    "# msft.options\n",
    "\n",
    "# # show news\n",
    "# msft.news\n",
    "\n",
    "# # get option chain for specific expiration\n",
    "# opt = msft.option_chain('YYYY-MM-DD')\n",
    "# # data available via: opt.calls, opt.puts"
   ]
  },
  {
   "cell_type": "code",
   "execution_count": null,
   "metadata": {},
   "outputs": [],
   "source": [
    "# Fetching and transforming data\n",
    "tickers = [\n",
    "    'AAPL', \n",
    "    'MSFT', \n",
    "    'AMZN', \n",
    "    'NVDA', \n",
    "    'GOOGL', \n",
    "    'TSLA', \n",
    "    'META', \n",
    "    'BRK.B', \n",
    "    'UNH'\n",
    "]\n",
    "ticker_list = [yf.Ticker(t) for t in tickers]"
   ]
  },
  {
   "cell_type": "code",
   "execution_count": null,
   "metadata": {},
   "outputs": [],
   "source": [
    "def get_balance_sheet(ticker_objs):\n",
    "    \"\"\"Obtains and restructures balance sheet\"\"\"\n",
    "    balance_sheets_to_concatenate = []\n",
    "    for t in ticker_objs: \n",
    "        balance_sheet = t.balance_sheet\n",
    "        balance_sheet.reset_index(inplace=True)\n",
    "        balance_sheet = balance_sheet.melt(id_vars=['index'])\n",
    "        balance_sheet.columns = ['Metric', 'Date', 'Value']\n",
    "        balance_sheet['Date'] = pd.to_datetime(balance_sheet['Date'])\n",
    "        balance_sheet['Ticker'] = t.info.get('symbol')\n",
    "        balance_sheets_to_concatenate.append(balance_sheet)\n",
    "    return pd.concat(balance_sheets_to_concatenate, axis='index')\n",
    "\n"
   ]
  },
  {
   "cell_type": "code",
   "execution_count": null,
   "metadata": {},
   "outputs": [],
   "source": [
    "def get_actions(ticker_objs):\n",
    "    datasets_to_concatenate = []\n",
    "    for t in ticker_objs:\n",
    "        actions = t.actions.reset_index()\n",
    "        actions['Ticker'] = t.info.get('symbol')\n",
    "        datasets_to_concatenate.append(actions)\n",
    "    return pd.concat(datasets_to_concatenate, axis='index')"
   ]
  },
  {
   "cell_type": "code",
   "execution_count": null,
   "metadata": {},
   "outputs": [],
   "source": [
    "def get_info(ticker_objs: list):\n",
    "    dataframes_to_concatenate = []\n",
    "    for t in ticker_objs:\n",
    "        info = t.info\n",
    "        info_df = pd.DataFrame([i for i in info.items() if i[0] != 'symbol'], columns=['Key', 'Value'])\n",
    "        info_df['Ticker'] = info.get('symbol')\n",
    "        dataframes_to_concatenate.append(info_df)\n",
    "    return pd.concat(dataframes_to_concatenate, axis='index')"
   ]
  },
  {
   "cell_type": "code",
   "execution_count": null,
   "metadata": {},
   "outputs": [],
   "source": [
    "def get_recommendations(ticker_objs):\n",
    "    dataframes_to_concatenate = []\n",
    "    for t in ticker_objs:\n",
    "        dataframe = t.recommendations\n",
    "        dataframe['Ticker'] = t.info.get('symbol')\n",
    "        dataframes_to_concatenate.append(dataframe)\n",
    "    return pd.concat(dataframes_to_concatenate, axis='index')\n",
    "\n",
    "\n"
   ]
  },
  {
   "cell_type": "code",
   "execution_count": null,
   "metadata": {},
   "outputs": [],
   "source": [
    "def get_income_statements(ticker_objs):\n",
    "    dataframes_to_append = []\n",
    "    for t in ticker_objs:\n",
    "        income_statement = t.income_stmt.reset_index()\n",
    "        income_statement = income_statement.melt(id_vars=['index'])\n",
    "        income_statement.columns = ['Metric', 'Date', 'Value']\n",
    "        income_statement['Date'] = pd.to_datetime(income_statement['Date'])\n",
    "        income_statement['Ticker'] = t.info.get('symbol')\n",
    "        dataframes_to_append.append(income_statement)\n",
    "    return pd.concat(dataframes_to_append, axis='index')\n",
    "        \n",
    "    \n",
    "\n"
   ]
  },
  {
   "cell_type": "code",
   "execution_count": null,
   "metadata": {},
   "outputs": [],
   "source": [
    "def get_eps_data(ticker_objs):\n",
    "    datasets_to_concatenate = []\n",
    "    for t in ticker_objs:\n",
    "        eps = t.earnings_dates.reset_index()\n",
    "        eps['Ticker'] = t.info.get('symbol')\n",
    "        datasets_to_concatenate.append(eps)\n",
    "    return pd.concat(datasets_to_concatenate, axis='index')\n"
   ]
  },
  {
   "cell_type": "code",
   "execution_count": null,
   "metadata": {},
   "outputs": [],
   "source": []
  },
  {
   "cell_type": "code",
   "execution_count": null,
   "metadata": {},
   "outputs": [],
   "source": []
  }
 ],
 "metadata": {
  "kernelspec": {
   "display_name": "financial-analysis-project",
   "language": "python",
   "name": "python3"
  },
  "language_info": {
   "codemirror_mode": {
    "name": "ipython",
    "version": 3
   },
   "file_extension": ".py",
   "mimetype": "text/x-python",
   "name": "python",
   "nbconvert_exporter": "python",
   "pygments_lexer": "ipython3",
   "version": "3.11.3"
  }
 },
 "nbformat": 4,
 "nbformat_minor": 2
}
